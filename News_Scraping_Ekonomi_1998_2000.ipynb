{
  "nbformat": 4,
  "nbformat_minor": 0,
  "metadata": {
    "colab": {
      "provenance": [],
      "include_colab_link": true
    },
    "kernelspec": {
      "name": "python3",
      "display_name": "Python 3"
    },
    "language_info": {
      "name": "python"
    }
  },
  "cells": [
    {
      "cell_type": "markdown",
      "metadata": {
        "id": "view-in-github",
        "colab_type": "text"
      },
      "source": [
        "<a href=\"https://colab.research.google.com/github/adindasyv/skripsi_2024/blob/main/News_Scraping_Ekonomi_1998_2000.ipynb\" target=\"_parent\"><img src=\"https://colab.research.google.com/assets/colab-badge.svg\" alt=\"Open In Colab\"/></a>"
      ]
    },
    {
      "cell_type": "code",
      "execution_count": null,
      "metadata": {
        "id": "BCPxXbJgcJMN",
        "colab": {
          "base_uri": "https://localhost:8080/"
        },
        "outputId": "e1c03ad2-66da-4639-a75c-3916a84ce28a"
      },
      "outputs": [
        {
          "output_type": "stream",
          "name": "stdout",
          "text": [
            "Mounted at /content/drive\n"
          ]
        }
      ],
      "source": [
        "import requests\n",
        "from bs4 import BeautifulSoup\n",
        "import csv\n",
        "from tqdm import tqdm\n",
        "import pandas as pd\n",
        "import re"
      ]
    },
    {
      "cell_type": "code",
      "source": [
        "keywords = [\n",
        "    \"Krisis Moneter 1998\",\n",
        "    \"Krisis Ekonomi Asia\",\n",
        "    \"Depresiasi Rupiah\",\n",
        "    \"Kurs Rupiah terhadap Dolar\",\n",
        "    \"Inflasi 1998 Indonesia\",\n",
        "    \"IMF di Indonesia\",\n",
        "    \"Kerusuhan Mei 1998\",\n",
        "    \"Soeharto Lengser\",\n",
        "    \"Pemulihan Ekonomi Indonesia 1999\",\n",
        "    \"Kebijakan Moneter 1998-2000\",\n",
        "    \"Habibie Rupiah\",\n",
        "    \"Kerusuhan Sosial 1998\",\n",
        "    \"Penjarahan 1998\",\n",
        "    \"Pengangguran 1998\",\n",
        "    \"Harga BBM 1998\",\n",
        "    \"Demo Buruh 1998\",\n",
        "    \"Krisis Pangan 1998\",\n",
        "    \"Rakyat Melawan Orde Baru\",\n",
        "    \"Konflik Etnis dan Agama 1998-2000\"\n",
        "]\n",
        "pages = 20"
      ],
      "metadata": {
        "id": "zMtWDFSR1oaI"
      },
      "execution_count": null,
      "outputs": []
    },
    {
      "cell_type": "code",
      "source": [
        "# scrape detik.com\n",
        "def scrape_detikcom(keywords, pages):\n",
        "  with open('detik_news_scraped.csv', 'w', newline='') as csvfile:\n",
        "      writer = csv.writer(csvfile)\n",
        "      writer.writerow(['Category', 'Title', 'Description', 'Content', 'Link', 'Created_at', 'Keyword_searched'])\n",
        "      for keyword in tqdm(keywords):\n",
        "          print(f'Keyword: {keyword}')\n",
        "          for page in range(1, pages+1):\n",
        "            print(f'Page: {page}')\n",
        "            base_url = f\"https://www.detik.com/search/searchall?query={'%20'.join(keyword.split())}&page={page}&result_type=relevansi\"\n",
        "\n",
        "            request = requests.get(base_url)\n",
        "\n",
        "            page = BeautifulSoup(request.content, \"html.parser\")\n",
        "            all_texts = page.find_all('div', class_='media__text')\n",
        "            if len(all_texts) == 0:\n",
        "              break\n",
        "            for texts in all_texts:\n",
        "                try:\n",
        "                  category = texts.find('h2', 'media__subtitle').text.strip()\n",
        "                  title = texts.find('a', class_='media__link').text.strip()\n",
        "                  description = texts.find('div', class_='media__desc').text.strip()\n",
        "                  created_at = texts.find('span').text.strip()\n",
        "                  link = texts.find('a', class_='media__link')['href']\n",
        "\n",
        "                  content_request = requests.get(link)\n",
        "                  content_page = BeautifulSoup(content_request.content, \"html.parser\")\n",
        "\n",
        "                  date = content_page.find('div', class_='detail__date')\n",
        "                  if date is None:\n",
        "                    date = content_page.find('span', class_='date')\n",
        "                    if date is None:\n",
        "                      date = texts.find('span')\n",
        "\n",
        "                  contents = content_page.find_all('p')\n",
        "                  content = ''\n",
        "                  for c in contents:\n",
        "                    content += c.text.strip()\n",
        "                  content = re.sub(r'<[^>]*>', '', content)\n",
        "\n",
        "                  writer.writerow([category, title, description, content, link, date.text.strip(), keyword])\n",
        "                except AttributeError:\n",
        "                  continue\n",
        "\n",
        "scrape_detikcom(keywords, pages)"
      ],
      "metadata": {
        "id": "F5cxpBcyocfM",
        "colab": {
          "base_uri": "https://localhost:8080/"
        },
        "outputId": "afa30185-5389-4cd6-8423-6bd16d33197c"
      },
      "execution_count": null,
      "outputs": [
        {
          "output_type": "stream",
          "name": "stderr",
          "text": [
            "\r  0%|          | 0/19 [00:00<?, ?it/s]"
          ]
        },
        {
          "output_type": "stream",
          "name": "stdout",
          "text": [
            "Keyword: Krisis Moneter 1998\n",
            "Page: 1\n",
            "Page: 2\n",
            "Page: 3\n",
            "Page: 4\n",
            "Page: 5\n",
            "Page: 6\n",
            "Page: 7\n",
            "Page: 8\n",
            "Page: 9\n",
            "Page: 10\n",
            "Page: 11\n",
            "Page: 12\n",
            "Page: 13\n",
            "Page: 14\n",
            "Page: 15\n",
            "Page: 16\n",
            "Page: 17\n",
            "Page: 18\n",
            "Page: 19\n",
            "Page: 20\n"
          ]
        },
        {
          "output_type": "stream",
          "name": "stderr",
          "text": [
            "\r  5%|▌         | 1/19 [03:08<56:26, 188.16s/it]"
          ]
        },
        {
          "output_type": "stream",
          "name": "stdout",
          "text": [
            "Keyword: Krisis Ekonomi Asia\n",
            "Page: 1\n",
            "Page: 2\n",
            "Page: 3\n",
            "Page: 4\n",
            "Page: 5\n",
            "Page: 6\n",
            "Page: 7\n",
            "Page: 8\n",
            "Page: 9\n",
            "Page: 10\n",
            "Page: 11\n",
            "Page: 12\n",
            "Page: 13\n",
            "Page: 14\n",
            "Page: 15\n",
            "Page: 16\n",
            "Page: 17\n",
            "Page: 18\n",
            "Page: 19\n",
            "Page: 20\n"
          ]
        },
        {
          "output_type": "stream",
          "name": "stderr",
          "text": [
            "\r 11%|█         | 2/19 [08:00<1:10:43, 249.59s/it]"
          ]
        },
        {
          "output_type": "stream",
          "name": "stdout",
          "text": [
            "Keyword: Depresiasi Rupiah\n",
            "Page: 1\n",
            "Page: 2\n",
            "Page: 3\n",
            "Page: 4\n",
            "Page: 5\n",
            "Page: 6\n",
            "Page: 7\n",
            "Page: 8\n",
            "Page: 9\n",
            "Page: 10\n",
            "Page: 11\n",
            "Page: 12\n",
            "Page: 13\n",
            "Page: 14\n",
            "Page: 15\n",
            "Page: 16\n",
            "Page: 17\n",
            "Page: 18\n",
            "Page: 19\n",
            "Page: 20\n"
          ]
        },
        {
          "output_type": "stream",
          "name": "stderr",
          "text": [
            "\r 16%|█▌        | 3/19 [13:45<1:18:07, 292.95s/it]"
          ]
        },
        {
          "output_type": "stream",
          "name": "stdout",
          "text": [
            "Keyword: Kurs Rupiah terhadap Dolar\n",
            "Page: 1\n",
            "Page: 2\n",
            "Page: 3\n",
            "Page: 4\n",
            "Page: 5\n",
            "Page: 6\n",
            "Page: 7\n",
            "Page: 8\n",
            "Page: 9\n",
            "Page: 10\n",
            "Page: 11\n",
            "Page: 12\n",
            "Page: 13\n",
            "Page: 14\n",
            "Page: 15\n",
            "Page: 16\n",
            "Page: 17\n",
            "Page: 18\n",
            "Page: 19\n",
            "Page: 20\n"
          ]
        },
        {
          "output_type": "stream",
          "name": "stderr",
          "text": [
            "\r 21%|██        | 4/19 [18:48<1:14:15, 297.01s/it]"
          ]
        },
        {
          "output_type": "stream",
          "name": "stdout",
          "text": [
            "Keyword: Inflasi 1998 Indonesia\n",
            "Page: 1\n",
            "Page: 2\n",
            "Page: 3\n",
            "Page: 4\n",
            "Page: 5\n",
            "Page: 6\n",
            "Page: 7\n",
            "Page: 8\n",
            "Page: 9\n",
            "Page: 10\n",
            "Page: 11\n",
            "Page: 12\n",
            "Page: 13\n",
            "Page: 14\n",
            "Page: 15\n",
            "Page: 16\n",
            "Page: 17\n",
            "Page: 18\n",
            "Page: 19\n",
            "Page: 20\n"
          ]
        },
        {
          "output_type": "stream",
          "name": "stderr",
          "text": [
            "\r 26%|██▋       | 5/19 [24:38<1:13:43, 315.99s/it]"
          ]
        },
        {
          "output_type": "stream",
          "name": "stdout",
          "text": [
            "Keyword: IMF di Indonesia\n",
            "Page: 1\n",
            "Page: 2\n",
            "Page: 3\n",
            "Page: 4\n",
            "Page: 5\n",
            "Page: 6\n",
            "Page: 7\n",
            "Page: 8\n",
            "Page: 9\n",
            "Page: 10\n",
            "Page: 11\n",
            "Page: 12\n",
            "Page: 13\n",
            "Page: 14\n",
            "Page: 15\n",
            "Page: 16\n",
            "Page: 17\n",
            "Page: 18\n",
            "Page: 19\n",
            "Page: 20\n"
          ]
        },
        {
          "output_type": "stream",
          "name": "stderr",
          "text": [
            "\r 32%|███▏      | 6/19 [30:16<1:10:08, 323.70s/it]"
          ]
        },
        {
          "output_type": "stream",
          "name": "stdout",
          "text": [
            "Keyword: Kerusuhan Mei 1998\n",
            "Page: 1\n",
            "Page: 2\n",
            "Page: 3\n",
            "Page: 4\n",
            "Page: 5\n",
            "Page: 6\n",
            "Page: 7\n",
            "Page: 8\n",
            "Page: 9\n",
            "Page: 10\n",
            "Page: 11\n",
            "Page: 12\n",
            "Page: 13\n",
            "Page: 14\n",
            "Page: 15\n",
            "Page: 16\n",
            "Page: 17\n",
            "Page: 18\n",
            "Page: 19\n",
            "Page: 20\n"
          ]
        },
        {
          "output_type": "stream",
          "name": "stderr",
          "text": [
            "\r 37%|███▋      | 7/19 [36:15<1:07:01, 335.13s/it]"
          ]
        },
        {
          "output_type": "stream",
          "name": "stdout",
          "text": [
            "Keyword: Soeharto Lengser\n",
            "Page: 1\n",
            "Page: 2\n",
            "Page: 3\n",
            "Page: 4\n",
            "Page: 5\n",
            "Page: 6\n",
            "Page: 7\n",
            "Page: 8\n",
            "Page: 9\n",
            "Page: 10\n",
            "Page: 11\n",
            "Page: 12\n",
            "Page: 13\n",
            "Page: 14\n",
            "Page: 15\n",
            "Page: 16\n",
            "Page: 17\n",
            "Page: 18\n",
            "Page: 19\n",
            "Page: 20\n"
          ]
        },
        {
          "output_type": "stream",
          "name": "stderr",
          "text": [
            "\r 42%|████▏     | 8/19 [41:51<1:01:29, 335.37s/it]"
          ]
        },
        {
          "output_type": "stream",
          "name": "stdout",
          "text": [
            "Keyword: Pemulihan Ekonomi Indonesia 1999\n",
            "Page: 1\n",
            "Page: 2\n",
            "Page: 3\n",
            "Page: 4\n",
            "Page: 5\n",
            "Page: 6\n",
            "Page: 7\n",
            "Page: 8\n",
            "Page: 9\n",
            "Page: 10\n",
            "Page: 11\n",
            "Page: 12\n",
            "Page: 13\n",
            "Page: 14\n",
            "Page: 15\n",
            "Page: 16\n",
            "Page: 17\n",
            "Page: 18\n",
            "Page: 19\n",
            "Page: 20\n"
          ]
        },
        {
          "output_type": "stream",
          "name": "stderr",
          "text": [
            "\r 47%|████▋     | 9/19 [47:44<56:50, 341.02s/it]  "
          ]
        },
        {
          "output_type": "stream",
          "name": "stdout",
          "text": [
            "Keyword: Kebijakan Moneter 1998-2000\n",
            "Page: 1\n",
            "Page: 2\n",
            "Page: 3\n",
            "Page: 4\n",
            "Page: 5\n",
            "Page: 6\n",
            "Page: 7\n",
            "Page: 8\n",
            "Page: 9\n",
            "Page: 10\n",
            "Page: 11\n",
            "Page: 12\n",
            "Page: 13\n",
            "Page: 14\n",
            "Page: 15\n",
            "Page: 16\n",
            "Page: 17\n",
            "Page: 18\n",
            "Page: 19\n",
            "Page: 20\n"
          ]
        },
        {
          "output_type": "stream",
          "name": "stderr",
          "text": [
            "\r 53%|█████▎    | 10/19 [53:45<52:02, 346.95s/it]"
          ]
        },
        {
          "output_type": "stream",
          "name": "stdout",
          "text": [
            "Keyword: Habibie Rupiah\n",
            "Page: 1\n",
            "Page: 2\n",
            "Page: 3\n",
            "Page: 4\n",
            "Page: 5\n",
            "Page: 6\n",
            "Page: 7\n",
            "Page: 8\n",
            "Page: 9\n",
            "Page: 10\n",
            "Page: 11\n",
            "Page: 12\n",
            "Page: 13\n",
            "Page: 14\n",
            "Page: 15\n",
            "Page: 16\n",
            "Page: 17\n",
            "Page: 18\n",
            "Page: 19\n",
            "Page: 20\n"
          ]
        },
        {
          "output_type": "stream",
          "name": "stderr",
          "text": [
            "\r 58%|█████▊    | 11/19 [59:28<46:08, 346.01s/it]"
          ]
        },
        {
          "output_type": "stream",
          "name": "stdout",
          "text": [
            "Keyword: Kerusuhan Sosial 1998\n",
            "Page: 1\n",
            "Page: 2\n",
            "Page: 3\n",
            "Page: 4\n",
            "Page: 5\n",
            "Page: 6\n",
            "Page: 7\n",
            "Page: 8\n",
            "Page: 9\n",
            "Page: 10\n",
            "Page: 11\n",
            "Page: 12\n",
            "Page: 13\n",
            "Page: 14\n",
            "Page: 15\n",
            "Page: 16\n",
            "Page: 17\n",
            "Page: 18\n",
            "Page: 19\n",
            "Page: 20\n"
          ]
        },
        {
          "output_type": "stream",
          "name": "stderr",
          "text": [
            "\r 63%|██████▎   | 12/19 [1:05:34<41:04, 352.05s/it]"
          ]
        },
        {
          "output_type": "stream",
          "name": "stdout",
          "text": [
            "Keyword: Penjarahan 1998\n",
            "Page: 1\n",
            "Page: 2\n",
            "Page: 3\n",
            "Page: 4\n",
            "Page: 5\n",
            "Page: 6\n",
            "Page: 7\n",
            "Page: 8\n",
            "Page: 9\n",
            "Page: 10\n",
            "Page: 11\n",
            "Page: 12\n",
            "Page: 13\n",
            "Page: 14\n",
            "Page: 15\n",
            "Page: 16\n",
            "Page: 17\n",
            "Page: 18\n",
            "Page: 19\n",
            "Page: 20\n"
          ]
        },
        {
          "output_type": "stream",
          "name": "stderr",
          "text": [
            "\r 68%|██████▊   | 13/19 [1:10:40<33:47, 337.87s/it]"
          ]
        },
        {
          "output_type": "stream",
          "name": "stdout",
          "text": [
            "Keyword: Pengangguran 1998\n",
            "Page: 1\n",
            "Page: 2\n",
            "Page: 3\n",
            "Page: 4\n",
            "Page: 5\n",
            "Page: 6\n",
            "Page: 7\n",
            "Page: 8\n",
            "Page: 9\n",
            "Page: 10\n",
            "Page: 11\n",
            "Page: 12\n",
            "Page: 13\n",
            "Page: 14\n",
            "Page: 15\n",
            "Page: 16\n",
            "Page: 17\n",
            "Page: 18\n",
            "Page: 19\n",
            "Page: 20\n"
          ]
        },
        {
          "output_type": "stream",
          "name": "stderr",
          "text": [
            "\r 74%|███████▎  | 14/19 [1:16:22<28:15, 339.14s/it]"
          ]
        },
        {
          "output_type": "stream",
          "name": "stdout",
          "text": [
            "Keyword: Harga BBM 1998\n",
            "Page: 1\n",
            "Page: 2\n",
            "Page: 3\n",
            "Page: 4\n",
            "Page: 5\n",
            "Page: 6\n",
            "Page: 7\n",
            "Page: 8\n",
            "Page: 9\n",
            "Page: 10\n",
            "Page: 11\n",
            "Page: 12\n",
            "Page: 13\n",
            "Page: 14\n",
            "Page: 15\n",
            "Page: 16\n",
            "Page: 17\n",
            "Page: 18\n",
            "Page: 19\n",
            "Page: 20\n"
          ]
        },
        {
          "output_type": "stream",
          "name": "stderr",
          "text": [
            "\r 79%|███████▉  | 15/19 [1:22:23<23:03, 345.96s/it]"
          ]
        },
        {
          "output_type": "stream",
          "name": "stdout",
          "text": [
            "Keyword: Demo Buruh 1998\n",
            "Page: 1\n",
            "Page: 2\n",
            "Page: 3\n",
            "Page: 4\n",
            "Page: 5\n",
            "Page: 6\n",
            "Page: 7\n",
            "Page: 8\n",
            "Page: 9\n",
            "Page: 10\n",
            "Page: 11\n",
            "Page: 12\n",
            "Page: 13\n",
            "Page: 14\n",
            "Page: 15\n",
            "Page: 16\n",
            "Page: 17\n",
            "Page: 18\n",
            "Page: 19\n",
            "Page: 20\n"
          ]
        },
        {
          "output_type": "stream",
          "name": "stderr",
          "text": [
            "\r 84%|████████▍ | 16/19 [1:28:10<17:18, 346.17s/it]"
          ]
        },
        {
          "output_type": "stream",
          "name": "stdout",
          "text": [
            "Keyword: Krisis Pangan 1998\n",
            "Page: 1\n",
            "Page: 2\n",
            "Page: 3\n",
            "Page: 4\n",
            "Page: 5\n",
            "Page: 6\n",
            "Page: 7\n",
            "Page: 8\n",
            "Page: 9\n",
            "Page: 10\n",
            "Page: 11\n",
            "Page: 12\n",
            "Page: 13\n",
            "Page: 14\n",
            "Page: 15\n",
            "Page: 16\n",
            "Page: 17\n",
            "Page: 18\n",
            "Page: 19\n",
            "Page: 20\n"
          ]
        },
        {
          "output_type": "stream",
          "name": "stderr",
          "text": [
            "\r 89%|████████▉ | 17/19 [1:34:02<11:35, 347.93s/it]"
          ]
        },
        {
          "output_type": "stream",
          "name": "stdout",
          "text": [
            "Keyword: Rakyat Melawan Orde Baru\n",
            "Page: 1\n",
            "Page: 2\n",
            "Page: 3\n",
            "Page: 4\n",
            "Page: 5\n",
            "Page: 6\n",
            "Page: 7\n",
            "Page: 8\n",
            "Page: 9\n",
            "Page: 10\n",
            "Page: 11\n",
            "Page: 12\n",
            "Page: 13\n",
            "Page: 14\n",
            "Page: 15\n",
            "Page: 16\n",
            "Page: 17\n",
            "Page: 18\n",
            "Page: 19\n",
            "Page: 20\n"
          ]
        },
        {
          "output_type": "stream",
          "name": "stderr",
          "text": [
            "\r 95%|█████████▍| 18/19 [1:40:06<05:52, 352.75s/it]"
          ]
        },
        {
          "output_type": "stream",
          "name": "stdout",
          "text": [
            "Keyword: Konflik Etnis dan Agama 1998-2000\n",
            "Page: 1\n",
            "Page: 2\n",
            "Page: 3\n",
            "Page: 4\n",
            "Page: 5\n",
            "Page: 6\n",
            "Page: 7\n",
            "Page: 8\n",
            "Page: 9\n",
            "Page: 10\n",
            "Page: 11\n",
            "Page: 12\n",
            "Page: 13\n",
            "Page: 14\n",
            "Page: 15\n",
            "Page: 16\n",
            "Page: 17\n",
            "Page: 18\n",
            "Page: 19\n",
            "Page: 20\n"
          ]
        },
        {
          "output_type": "stream",
          "name": "stderr",
          "text": [
            "100%|██████████| 19/19 [1:46:13<00:00, 335.45s/it]\n"
          ]
        }
      ]
    },
    {
      "cell_type": "code",
      "source": [
        "# scrape cnbc\n",
        "def scrape_cnbc(keywords, pages):\n",
        "  all_categories = []\n",
        "  all_titles = []\n",
        "  all_links = []\n",
        "  all_contents = []\n",
        "  all_dates =[]\n",
        "  all_keywords = []\n",
        "  for keyword in tqdm(keywords):\n",
        "      print(f'Keyword: {keyword}')\n",
        "      for page in range(1, pages+1):\n",
        "          print(f'Page: {page}')\n",
        "          base_url = f\"https://www.cnbcindonesia.com/search?query={'%20'.join([word.lower() for word in keyword.split()])}&page={page}\"\n",
        "          request = requests.get(base_url)\n",
        "\n",
        "          page = BeautifulSoup(request.content, \"html.parser\")\n",
        "          try:\n",
        "            # category\n",
        "            categories = page.find_all('span', 'mr-1.5 mt-3 inline-block rounded-sm bg-cnbc-primary-blue px-1 py-0.5 text-base text-white uppercase')\n",
        "            for category in categories:\n",
        "              all_categories.append(category.text.strip())\n",
        "\n",
        "            # title\n",
        "            titles = page.find_all('h2', class_='font-semibold text-23 group-hover:text-cnbc-primary-blue')\n",
        "            for title in titles:\n",
        "              all_titles.append(title.text.strip())\n",
        "\n",
        "            # link\n",
        "            links = page.find_all('a', class_='group flex gap-4 items-center')\n",
        "            for link in links:\n",
        "              all_links.append(link['href'])\n",
        "\n",
        "              # date\n",
        "              content_request = requests.get(link['href'])\n",
        "              content_page = BeautifulSoup(content_request.content, \"html.parser\")\n",
        "              date = content_page.find('div', class_='text-cm text-gray').text.strip()\n",
        "              all_dates.append(date)\n",
        "\n",
        "              contents = content_page.find_all('p')\n",
        "              content = ''\n",
        "              for c in contents:\n",
        "                content += c.text.strip()\n",
        "              content = re.sub(r'<[^>]*>', '', content)\n",
        "              all_contents.append(content)\n",
        "\n",
        "            # keyword\n",
        "            for _ in range(len(titles)):\n",
        "              all_keywords.append(keyword)\n",
        "          except AttributeError as e:\n",
        "            print(f'Error: {e}')\n",
        "            continue\n",
        "  final_df = pd.DataFrame({\n",
        "      'Category': all_categories,\n",
        "      'Title': all_titles,\n",
        "      'Content': all_contents,\n",
        "      'Link': all_links,\n",
        "      'Created_at': all_dates,\n",
        "      'Keyword_searched': all_keywords\n",
        "  })\n",
        "  final_df.to_csv('cnbc_news_scraped.csv', index=False)\n",
        "\n",
        "scrape_cnbc(keywords, pages)"
      ],
      "metadata": {
        "colab": {
          "base_uri": "https://localhost:8080/"
        },
        "id": "WEZ_-TOxLcxu",
        "outputId": "cdf70fae-a4ee-4de8-c216-fbda7c0caf63"
      },
      "execution_count": null,
      "outputs": [
        {
          "output_type": "stream",
          "name": "stderr",
          "text": [
            "\r  0%|          | 0/19 [00:00<?, ?it/s]"
          ]
        },
        {
          "output_type": "stream",
          "name": "stdout",
          "text": [
            "Keyword: Krisis Moneter 1998\n",
            "Page: 1\n",
            "Page: 2\n",
            "Page: 3\n",
            "Page: 4\n",
            "Page: 5\n",
            "Page: 6\n",
            "Page: 7\n",
            "Page: 8\n",
            "Page: 9\n",
            "Page: 10\n",
            "Page: 11\n",
            "Page: 12\n",
            "Page: 13\n",
            "Page: 14\n",
            "Page: 15\n",
            "Page: 16\n",
            "Page: 17\n",
            "Page: 18\n",
            "Page: 19\n",
            "Page: 20\n",
            "Page: 21\n",
            "Page: 22\n",
            "Page: 23\n",
            "Page: 24\n",
            "Page: 25\n",
            "Page: 26\n",
            "Page: 27\n",
            "Page: 28\n",
            "Page: 29\n",
            "Page: 30\n"
          ]
        },
        {
          "output_type": "stream",
          "name": "stderr",
          "text": [
            "\r  5%|▌         | 1/19 [03:20<1:00:09, 200.54s/it]"
          ]
        },
        {
          "output_type": "stream",
          "name": "stdout",
          "text": [
            "Keyword: Krisis Ekonomi Asia\n",
            "Page: 1\n",
            "Page: 2\n",
            "Page: 3\n",
            "Page: 4\n",
            "Page: 5\n",
            "Page: 6\n",
            "Page: 7\n",
            "Page: 8\n",
            "Page: 9\n",
            "Page: 10\n",
            "Page: 11\n",
            "Page: 12\n",
            "Page: 13\n",
            "Page: 14\n",
            "Page: 15\n",
            "Page: 16\n",
            "Page: 17\n",
            "Page: 18\n",
            "Page: 19\n",
            "Page: 20\n",
            "Page: 21\n",
            "Page: 22\n",
            "Page: 23\n",
            "Page: 24\n",
            "Page: 25\n",
            "Page: 26\n",
            "Page: 27\n",
            "Page: 28\n",
            "Page: 29\n",
            "Page: 30\n"
          ]
        },
        {
          "output_type": "stream",
          "name": "stderr",
          "text": [
            "\r 11%|█         | 2/19 [07:01<1:00:08, 212.27s/it]"
          ]
        },
        {
          "output_type": "stream",
          "name": "stdout",
          "text": [
            "Keyword: Depresiasi Rupiah\n",
            "Page: 1\n",
            "Page: 2\n",
            "Page: 3\n",
            "Page: 4\n",
            "Page: 5\n",
            "Page: 6\n",
            "Page: 7\n",
            "Page: 8\n",
            "Page: 9\n",
            "Page: 10\n",
            "Page: 11\n",
            "Page: 12\n",
            "Page: 13\n",
            "Page: 14\n",
            "Page: 15\n",
            "Page: 16\n",
            "Page: 17\n",
            "Page: 18\n",
            "Page: 19\n",
            "Page: 20\n",
            "Page: 21\n",
            "Page: 22\n",
            "Page: 23\n",
            "Page: 24\n",
            "Page: 25\n",
            "Page: 26\n",
            "Page: 27\n",
            "Page: 28\n",
            "Page: 29\n",
            "Page: 30\n"
          ]
        },
        {
          "output_type": "stream",
          "name": "stderr",
          "text": [
            "\r 16%|█▌        | 3/19 [10:47<58:18, 218.66s/it]  "
          ]
        },
        {
          "output_type": "stream",
          "name": "stdout",
          "text": [
            "Keyword: Kurs Rupiah terhadap Dolar\n",
            "Page: 1\n",
            "Page: 2\n",
            "Page: 3\n",
            "Page: 4\n",
            "Page: 5\n",
            "Page: 6\n",
            "Page: 7\n",
            "Page: 8\n",
            "Page: 9\n",
            "Page: 10\n",
            "Page: 11\n",
            "Page: 12\n",
            "Page: 13\n",
            "Page: 14\n",
            "Page: 15\n",
            "Page: 16\n",
            "Page: 17\n",
            "Page: 18\n",
            "Page: 19\n",
            "Page: 20\n",
            "Page: 21\n",
            "Page: 22\n",
            "Page: 23\n",
            "Page: 24\n",
            "Page: 25\n",
            "Page: 26\n",
            "Page: 27\n",
            "Page: 28\n",
            "Page: 29\n",
            "Page: 30\n"
          ]
        },
        {
          "output_type": "stream",
          "name": "stderr",
          "text": [
            "\r 21%|██        | 4/19 [14:36<55:39, 222.66s/it]"
          ]
        },
        {
          "output_type": "stream",
          "name": "stdout",
          "text": [
            "Keyword: Inflasi 1998 Indonesia\n",
            "Page: 1\n",
            "Page: 2\n",
            "Page: 3\n",
            "Page: 4\n",
            "Page: 5\n",
            "Page: 6\n",
            "Page: 7\n",
            "Page: 8\n",
            "Page: 9\n",
            "Page: 10\n",
            "Page: 11\n",
            "Page: 12\n",
            "Page: 13\n",
            "Page: 14\n",
            "Page: 15\n",
            "Page: 16\n",
            "Page: 17\n",
            "Page: 18\n",
            "Page: 19\n",
            "Page: 20\n",
            "Page: 21\n",
            "Page: 22\n",
            "Page: 23\n",
            "Page: 24\n",
            "Page: 25\n",
            "Page: 26\n",
            "Page: 27\n",
            "Page: 28\n",
            "Page: 29\n",
            "Page: 30\n"
          ]
        },
        {
          "output_type": "stream",
          "name": "stderr",
          "text": [
            "\r 26%|██▋       | 5/19 [18:14<51:38, 221.30s/it]"
          ]
        },
        {
          "output_type": "stream",
          "name": "stdout",
          "text": [
            "Keyword: IMF di Indonesia\n",
            "Page: 1\n",
            "Page: 2\n",
            "Page: 3\n",
            "Page: 4\n",
            "Page: 5\n",
            "Page: 6\n",
            "Page: 7\n",
            "Page: 8\n",
            "Page: 9\n",
            "Page: 10\n",
            "Page: 11\n",
            "Page: 12\n",
            "Page: 13\n",
            "Page: 14\n",
            "Page: 15\n",
            "Page: 16\n",
            "Page: 17\n",
            "Page: 18\n",
            "Page: 19\n",
            "Page: 20\n",
            "Page: 21\n",
            "Page: 22\n",
            "Page: 23\n",
            "Page: 24\n",
            "Page: 25\n",
            "Page: 26\n",
            "Page: 27\n",
            "Page: 28\n",
            "Page: 29\n",
            "Page: 30\n"
          ]
        },
        {
          "output_type": "stream",
          "name": "stderr",
          "text": [
            "\r 32%|███▏      | 6/19 [22:20<49:42, 229.45s/it]"
          ]
        },
        {
          "output_type": "stream",
          "name": "stdout",
          "text": [
            "Keyword: Kerusuhan Mei 1998\n",
            "Page: 1\n",
            "Page: 2\n",
            "Page: 3\n",
            "Page: 4\n",
            "Page: 5\n",
            "Page: 6\n",
            "Page: 7\n",
            "Page: 8\n",
            "Page: 9\n",
            "Page: 10\n",
            "Page: 11\n",
            "Page: 12\n",
            "Page: 13\n",
            "Page: 14\n",
            "Page: 15\n",
            "Page: 16\n",
            "Page: 17\n",
            "Page: 18\n",
            "Page: 19\n",
            "Page: 20\n",
            "Page: 21\n",
            "Page: 22\n",
            "Page: 23\n",
            "Page: 24\n",
            "Page: 25\n",
            "Page: 26\n",
            "Page: 27\n",
            "Page: 28\n",
            "Page: 29\n",
            "Page: 30\n"
          ]
        },
        {
          "output_type": "stream",
          "name": "stderr",
          "text": [
            "\r 37%|███▋      | 7/19 [23:22<34:57, 174.75s/it]"
          ]
        },
        {
          "output_type": "stream",
          "name": "stdout",
          "text": [
            "Keyword: Soeharto Lengser\n",
            "Page: 1\n",
            "Page: 2\n",
            "Page: 3\n",
            "Page: 4\n",
            "Page: 5\n",
            "Page: 6\n",
            "Page: 7\n",
            "Page: 8\n",
            "Page: 9\n",
            "Page: 10\n",
            "Page: 11\n",
            "Page: 12\n",
            "Page: 13\n",
            "Page: 14\n",
            "Page: 15\n",
            "Page: 16\n",
            "Page: 17\n",
            "Page: 18\n",
            "Page: 19\n",
            "Page: 20\n",
            "Page: 21\n",
            "Page: 22\n",
            "Page: 23\n",
            "Page: 24\n",
            "Page: 25\n",
            "Page: 26\n",
            "Page: 27\n",
            "Page: 28\n",
            "Page: 29\n",
            "Page: 30\n"
          ]
        },
        {
          "output_type": "stream",
          "name": "stderr",
          "text": [
            "\r 42%|████▏     | 8/19 [25:15<28:27, 155.25s/it]"
          ]
        },
        {
          "output_type": "stream",
          "name": "stdout",
          "text": [
            "Keyword: Pemulihan Ekonomi Indonesia 1999\n",
            "Page: 1\n",
            "Page: 2\n",
            "Page: 3\n",
            "Page: 4\n",
            "Page: 5\n",
            "Page: 6\n",
            "Page: 7\n",
            "Page: 8\n",
            "Page: 9\n",
            "Page: 10\n",
            "Page: 11\n",
            "Page: 12\n",
            "Page: 13\n",
            "Page: 14\n",
            "Page: 15\n",
            "Page: 16\n",
            "Page: 17\n",
            "Page: 18\n",
            "Page: 19\n",
            "Page: 20\n",
            "Page: 21\n",
            "Page: 22\n",
            "Page: 23\n",
            "Page: 24\n",
            "Page: 25\n",
            "Page: 26\n",
            "Page: 27\n",
            "Page: 28\n",
            "Page: 29\n",
            "Page: 30\n"
          ]
        },
        {
          "output_type": "stream",
          "name": "stderr",
          "text": [
            "\r 47%|████▋     | 9/19 [26:24<21:22, 128.22s/it]"
          ]
        },
        {
          "output_type": "stream",
          "name": "stdout",
          "text": [
            "Keyword: Kebijakan Moneter 1998-2000\n",
            "Page: 1\n",
            "Page: 2\n",
            "Page: 3\n",
            "Page: 4\n",
            "Page: 5\n",
            "Page: 6\n",
            "Page: 7\n",
            "Page: 8\n",
            "Page: 9\n",
            "Page: 10\n",
            "Page: 11\n",
            "Page: 12\n",
            "Page: 13\n",
            "Page: 14\n",
            "Page: 15\n",
            "Page: 16\n",
            "Page: 17\n",
            "Page: 18\n",
            "Page: 19\n",
            "Page: 20\n",
            "Page: 21\n",
            "Page: 22\n",
            "Page: 23\n",
            "Page: 24\n",
            "Page: 25\n",
            "Page: 26\n",
            "Page: 27\n",
            "Page: 28\n",
            "Page: 29\n",
            "Page: 30\n"
          ]
        },
        {
          "output_type": "stream",
          "name": "stderr",
          "text": [
            "\r 53%|█████▎    | 10/19 [26:56<14:47, 98.59s/it]"
          ]
        },
        {
          "output_type": "stream",
          "name": "stdout",
          "text": [
            "Keyword: Habibie Rupiah\n",
            "Page: 1\n",
            "Page: 2\n",
            "Page: 3\n",
            "Page: 4\n",
            "Page: 5\n",
            "Page: 6\n",
            "Page: 7\n",
            "Page: 8\n",
            "Page: 9\n",
            "Page: 10\n",
            "Page: 11\n",
            "Page: 12\n",
            "Page: 13\n",
            "Page: 14\n",
            "Page: 15\n",
            "Page: 16\n",
            "Page: 17\n",
            "Page: 18\n",
            "Page: 19\n",
            "Page: 20\n",
            "Page: 21\n",
            "Page: 22\n",
            "Page: 23\n",
            "Page: 24\n",
            "Page: 25\n",
            "Page: 26\n",
            "Page: 27\n",
            "Page: 28\n",
            "Page: 29\n",
            "Page: 30\n"
          ]
        },
        {
          "output_type": "stream",
          "name": "stderr",
          "text": [
            "\r 58%|█████▊    | 11/19 [28:03<11:49, 88.73s/it]"
          ]
        },
        {
          "output_type": "stream",
          "name": "stdout",
          "text": [
            "Keyword: Kerusuhan Sosial 1998\n",
            "Page: 1\n",
            "Page: 2\n",
            "Page: 3\n",
            "Page: 4\n",
            "Page: 5\n",
            "Page: 6\n",
            "Page: 7\n",
            "Page: 8\n",
            "Page: 9\n",
            "Page: 10\n",
            "Page: 11\n",
            "Page: 12\n",
            "Page: 13\n",
            "Page: 14\n",
            "Page: 15\n",
            "Page: 16\n",
            "Page: 17\n",
            "Page: 18\n",
            "Page: 19\n",
            "Page: 20\n",
            "Page: 21\n",
            "Page: 22\n",
            "Page: 23\n",
            "Page: 24\n",
            "Page: 25\n",
            "Page: 26\n",
            "Page: 27\n",
            "Page: 28\n",
            "Page: 29\n",
            "Page: 30\n"
          ]
        },
        {
          "output_type": "stream",
          "name": "stderr",
          "text": [
            "\r 63%|██████▎   | 12/19 [28:32<08:14, 70.68s/it]"
          ]
        },
        {
          "output_type": "stream",
          "name": "stdout",
          "text": [
            "Keyword: Penjarahan 1998\n",
            "Page: 1\n",
            "Page: 2\n",
            "Page: 3\n",
            "Page: 4\n",
            "Page: 5\n",
            "Page: 6\n",
            "Page: 7\n",
            "Page: 8\n",
            "Page: 9\n",
            "Page: 10\n",
            "Page: 11\n",
            "Page: 12\n",
            "Page: 13\n",
            "Page: 14\n",
            "Page: 15\n",
            "Page: 16\n",
            "Page: 17\n",
            "Page: 18\n",
            "Page: 19\n",
            "Page: 20\n",
            "Page: 21\n",
            "Page: 22\n",
            "Page: 23\n",
            "Page: 24\n",
            "Page: 25\n",
            "Page: 26\n",
            "Page: 27\n",
            "Page: 28\n",
            "Page: 29\n",
            "Page: 30\n"
          ]
        },
        {
          "output_type": "stream",
          "name": "stderr",
          "text": [
            "\r 68%|██████▊   | 13/19 [29:17<06:16, 62.78s/it]"
          ]
        },
        {
          "output_type": "stream",
          "name": "stdout",
          "text": [
            "Keyword: Pengangguran 1998\n",
            "Page: 1\n",
            "Page: 2\n",
            "Page: 3\n",
            "Page: 4\n",
            "Page: 5\n",
            "Page: 6\n",
            "Page: 7\n",
            "Page: 8\n",
            "Page: 9\n",
            "Page: 10\n",
            "Page: 11\n",
            "Page: 12\n",
            "Page: 13\n",
            "Page: 14\n",
            "Page: 15\n",
            "Page: 16\n",
            "Page: 17\n",
            "Page: 18\n",
            "Page: 19\n",
            "Page: 20\n",
            "Page: 21\n",
            "Page: 22\n",
            "Page: 23\n",
            "Page: 24\n",
            "Page: 25\n",
            "Page: 26\n",
            "Page: 27\n",
            "Page: 28\n",
            "Page: 29\n",
            "Page: 30\n"
          ]
        },
        {
          "output_type": "stream",
          "name": "stderr",
          "text": [
            "\r 74%|███████▎  | 14/19 [30:45<05:52, 70.53s/it]"
          ]
        },
        {
          "output_type": "stream",
          "name": "stdout",
          "text": [
            "Keyword: Harga BBM 1998\n",
            "Page: 1\n",
            "Page: 2\n",
            "Page: 3\n",
            "Page: 4\n",
            "Page: 5\n",
            "Page: 6\n",
            "Page: 7\n",
            "Page: 8\n",
            "Page: 9\n",
            "Page: 10\n",
            "Page: 11\n",
            "Page: 12\n",
            "Page: 13\n",
            "Page: 14\n",
            "Page: 15\n",
            "Page: 16\n",
            "Page: 17\n",
            "Page: 18\n",
            "Page: 19\n",
            "Page: 20\n",
            "Page: 21\n",
            "Page: 22\n",
            "Page: 23\n",
            "Page: 24\n",
            "Page: 25\n",
            "Page: 26\n",
            "Page: 27\n",
            "Page: 28\n",
            "Page: 29\n",
            "Page: 30\n"
          ]
        },
        {
          "output_type": "stream",
          "name": "stderr",
          "text": [
            "\r 79%|███████▉  | 15/19 [31:38<04:21, 65.33s/it]"
          ]
        },
        {
          "output_type": "stream",
          "name": "stdout",
          "text": [
            "Keyword: Demo Buruh 1998\n",
            "Page: 1\n",
            "Page: 2\n",
            "Page: 3\n",
            "Page: 4\n",
            "Page: 5\n",
            "Page: 6\n",
            "Page: 7\n",
            "Page: 8\n",
            "Page: 9\n",
            "Page: 10\n",
            "Page: 11\n",
            "Page: 12\n",
            "Page: 13\n",
            "Page: 14\n",
            "Page: 15\n",
            "Page: 16\n",
            "Page: 17\n",
            "Page: 18\n",
            "Page: 19\n",
            "Page: 20\n",
            "Page: 21\n",
            "Page: 22\n",
            "Page: 23\n",
            "Page: 24\n",
            "Page: 25\n",
            "Page: 26\n",
            "Page: 27\n",
            "Page: 28\n",
            "Page: 29\n",
            "Page: 30\n"
          ]
        },
        {
          "output_type": "stream",
          "name": "stderr",
          "text": [
            "\r 84%|████████▍ | 16/19 [32:01<02:37, 52.53s/it]"
          ]
        },
        {
          "output_type": "stream",
          "name": "stdout",
          "text": [
            "Keyword: Krisis Pangan 1998\n",
            "Page: 1\n",
            "Page: 2\n",
            "Page: 3\n",
            "Page: 4\n",
            "Page: 5\n",
            "Page: 6\n",
            "Page: 7\n",
            "Page: 8\n",
            "Page: 9\n",
            "Page: 10\n",
            "Page: 11\n",
            "Page: 12\n",
            "Page: 13\n",
            "Page: 14\n",
            "Page: 15\n",
            "Page: 16\n",
            "Page: 17\n",
            "Page: 18\n",
            "Page: 19\n",
            "Page: 20\n",
            "Page: 21\n",
            "Page: 22\n",
            "Page: 23\n",
            "Page: 24\n",
            "Page: 25\n",
            "Page: 26\n",
            "Page: 27\n",
            "Page: 28\n",
            "Page: 29\n",
            "Page: 30\n"
          ]
        },
        {
          "output_type": "stream",
          "name": "stderr",
          "text": [
            "\r 89%|████████▉ | 17/19 [33:18<01:59, 59.86s/it]"
          ]
        },
        {
          "output_type": "stream",
          "name": "stdout",
          "text": [
            "Keyword: Rakyat Melawan Orde Baru\n",
            "Page: 1\n",
            "Page: 2\n",
            "Page: 3\n",
            "Page: 4\n",
            "Page: 5\n",
            "Page: 6\n",
            "Page: 7\n",
            "Page: 8\n",
            "Page: 9\n",
            "Page: 10\n",
            "Page: 11\n",
            "Page: 12\n",
            "Page: 13\n",
            "Page: 14\n",
            "Page: 15\n",
            "Page: 16\n",
            "Page: 17\n",
            "Page: 18\n",
            "Page: 19\n",
            "Page: 20\n",
            "Page: 21\n",
            "Page: 22\n",
            "Page: 23\n",
            "Page: 24\n",
            "Page: 25\n",
            "Page: 26\n",
            "Page: 27\n",
            "Page: 28\n",
            "Page: 29\n",
            "Page: 30\n"
          ]
        },
        {
          "output_type": "stream",
          "name": "stderr",
          "text": [
            "\r 95%|█████████▍| 18/19 [33:43<00:49, 49.39s/it]"
          ]
        },
        {
          "output_type": "stream",
          "name": "stdout",
          "text": [
            "Keyword: Konflik Etnis dan Agama 1998-2000\n",
            "Page: 1\n",
            "Page: 2\n",
            "Page: 3\n",
            "Page: 4\n",
            "Page: 5\n",
            "Page: 6\n",
            "Page: 7\n",
            "Page: 8\n",
            "Page: 9\n",
            "Page: 10\n",
            "Page: 11\n",
            "Page: 12\n",
            "Page: 13\n",
            "Page: 14\n",
            "Page: 15\n",
            "Page: 16\n",
            "Page: 17\n",
            "Page: 18\n",
            "Page: 19\n",
            "Page: 20\n",
            "Page: 21\n",
            "Page: 22\n",
            "Page: 23\n",
            "Page: 24\n",
            "Page: 25\n",
            "Page: 26\n",
            "Page: 27\n",
            "Page: 28\n",
            "Page: 29\n",
            "Page: 30\n"
          ]
        },
        {
          "output_type": "stream",
          "name": "stderr",
          "text": [
            "100%|██████████| 19/19 [33:57<00:00, 107.25s/it]\n"
          ]
        }
      ]
    }
  ]
}